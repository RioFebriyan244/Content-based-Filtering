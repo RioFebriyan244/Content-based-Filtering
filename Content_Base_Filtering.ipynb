{
  "cells": [
    {
      "cell_type": "code",
      "execution_count": null,
      "metadata": {
        "id": "V7YpbCcSTrwM"
      },
      "outputs": [],
      "source": [
        "import pandas as pd\n",
        "from sklearn.model_selection import train_test_split\n",
        "from sklearn.metrics import accuracy_score, classification_report\n",
        "import tensorflow as tf\n",
        "import numpy as np\n",
        "import matplotlib.pyplot as plt\n",
        "from tensorflow.keras import Input, Model\n",
        "from tensorflow.keras.layers import Dense\n",
        "from sklearn.decomposition import PCA\n",
        "from sklearn.feature_extraction.text import TfidfVectorizer\n",
        "from sklearn.preprocessing import OneHotEncoder, MinMaxScaler\n",
        "from sklearn.metrics.pairwise import cosine_similarity\n",
        "from scipy.sparse import hstack"
      ]
    },
    {
      "cell_type": "markdown",
      "metadata": {
        "id": "a7dzmzGPqA-3"
      },
      "source": [
        "\n",
        "##Load Data\n",
        "### Tahap 1: Tahapan ini adalah langkah awal, yaitu mengambil data dari sumbernya dan memasukkannya ke dalam program Python"
      ]
    },
    {
      "cell_type": "code",
      "execution_count": null,
      "metadata": {
        "id": "zno1Xd1Ypwn_"
      },
      "outputs": [],
      "source": [
        "df = pd.read_csv(\"products.csv\")"
      ]
    },
    {
      "cell_type": "markdown",
      "source": [
        "####Pada Tahap df.info() dataset lengkap: Tidak ada nilai kosong, sehingga tidak perlu pembersihan data terkait missing values."
      ],
      "metadata": {
        "id": "_tCstwPtFUOc"
      }
    },
    {
      "cell_type": "code",
      "execution_count": null,
      "metadata": {
        "colab": {
          "base_uri": "https://localhost:8080/"
        },
        "id": "iPqBzcK4p7BZ",
        "outputId": "492be644-5639-4f76-deb0-af43c7c3a74a"
      },
      "outputs": [
        {
          "output_type": "stream",
          "name": "stdout",
          "text": [
            "<class 'pandas.core.frame.DataFrame'>\n",
            "RangeIndex: 867 entries, 0 to 866\n",
            "Data columns (total 6 columns):\n",
            " #   Column  Non-Null Count  Dtype  \n",
            "---  ------  --------------  -----  \n",
            " 0   Title   867 non-null    object \n",
            " 1   Price   867 non-null    float64\n",
            " 2   Rating  867 non-null    float64\n",
            " 3   Colors  867 non-null    int64  \n",
            " 4   Size    867 non-null    object \n",
            " 5   Gender  867 non-null    object \n",
            "dtypes: float64(2), int64(1), object(3)\n",
            "memory usage: 40.8+ KB\n"
          ]
        }
      ],
      "source": [
        "df.info()"
      ]
    },
    {
      "cell_type": "markdown",
      "source": [
        "#### Pada tahap df.head() menampilkan data 5 data pertama dari dataset , susunan ini masih belum sesuai dengan apa yang di harapkan"
      ],
      "metadata": {
        "id": "9rnuQ_N_G8zw"
      }
    },
    {
      "cell_type": "code",
      "execution_count": null,
      "metadata": {
        "colab": {
          "base_uri": "https://localhost:8080/",
          "height": 207
        },
        "id": "VpcqssWIqHjJ",
        "outputId": "b42087f5-3038-411e-8f99-e6e21844faad"
      },
      "outputs": [
        {
          "output_type": "execute_result",
          "data": {
            "text/plain": [
              "         Title      Price  Rating  Colors Size  Gender\n",
              "0    T-shirt 2  1634400.0     3.9       3    M   Women\n",
              "1     Hoodie 3  7950080.0     4.8       3    L  Unisex\n",
              "2      Pants 4  7476960.0     3.3       3   XL     Men\n",
              "3  Outerwear 5  5145440.0     3.5       3  XXL   Women\n",
              "4     Jacket 6  2453920.0     3.3       3    S  Unisex"
            ],
            "text/html": [
              "\n",
              "  <div id=\"df-f4275a83-a8d0-4b05-9563-d62d3fc96844\" class=\"colab-df-container\">\n",
              "    <div>\n",
              "<style scoped>\n",
              "    .dataframe tbody tr th:only-of-type {\n",
              "        vertical-align: middle;\n",
              "    }\n",
              "\n",
              "    .dataframe tbody tr th {\n",
              "        vertical-align: top;\n",
              "    }\n",
              "\n",
              "    .dataframe thead th {\n",
              "        text-align: right;\n",
              "    }\n",
              "</style>\n",
              "<table border=\"1\" class=\"dataframe\">\n",
              "  <thead>\n",
              "    <tr style=\"text-align: right;\">\n",
              "      <th></th>\n",
              "      <th>Title</th>\n",
              "      <th>Price</th>\n",
              "      <th>Rating</th>\n",
              "      <th>Colors</th>\n",
              "      <th>Size</th>\n",
              "      <th>Gender</th>\n",
              "    </tr>\n",
              "  </thead>\n",
              "  <tbody>\n",
              "    <tr>\n",
              "      <th>0</th>\n",
              "      <td>T-shirt 2</td>\n",
              "      <td>1634400.0</td>\n",
              "      <td>3.9</td>\n",
              "      <td>3</td>\n",
              "      <td>M</td>\n",
              "      <td>Women</td>\n",
              "    </tr>\n",
              "    <tr>\n",
              "      <th>1</th>\n",
              "      <td>Hoodie 3</td>\n",
              "      <td>7950080.0</td>\n",
              "      <td>4.8</td>\n",
              "      <td>3</td>\n",
              "      <td>L</td>\n",
              "      <td>Unisex</td>\n",
              "    </tr>\n",
              "    <tr>\n",
              "      <th>2</th>\n",
              "      <td>Pants 4</td>\n",
              "      <td>7476960.0</td>\n",
              "      <td>3.3</td>\n",
              "      <td>3</td>\n",
              "      <td>XL</td>\n",
              "      <td>Men</td>\n",
              "    </tr>\n",
              "    <tr>\n",
              "      <th>3</th>\n",
              "      <td>Outerwear 5</td>\n",
              "      <td>5145440.0</td>\n",
              "      <td>3.5</td>\n",
              "      <td>3</td>\n",
              "      <td>XXL</td>\n",
              "      <td>Women</td>\n",
              "    </tr>\n",
              "    <tr>\n",
              "      <th>4</th>\n",
              "      <td>Jacket 6</td>\n",
              "      <td>2453920.0</td>\n",
              "      <td>3.3</td>\n",
              "      <td>3</td>\n",
              "      <td>S</td>\n",
              "      <td>Unisex</td>\n",
              "    </tr>\n",
              "  </tbody>\n",
              "</table>\n",
              "</div>\n",
              "    <div class=\"colab-df-buttons\">\n",
              "\n",
              "  <div class=\"colab-df-container\">\n",
              "    <button class=\"colab-df-convert\" onclick=\"convertToInteractive('df-f4275a83-a8d0-4b05-9563-d62d3fc96844')\"\n",
              "            title=\"Convert this dataframe to an interactive table.\"\n",
              "            style=\"display:none;\">\n",
              "\n",
              "  <svg xmlns=\"http://www.w3.org/2000/svg\" height=\"24px\" viewBox=\"0 -960 960 960\">\n",
              "    <path d=\"M120-120v-720h720v720H120Zm60-500h600v-160H180v160Zm220 220h160v-160H400v160Zm0 220h160v-160H400v160ZM180-400h160v-160H180v160Zm440 0h160v-160H620v160ZM180-180h160v-160H180v160Zm440 0h160v-160H620v160Z\"/>\n",
              "  </svg>\n",
              "    </button>\n",
              "\n",
              "  <style>\n",
              "    .colab-df-container {\n",
              "      display:flex;\n",
              "      gap: 12px;\n",
              "    }\n",
              "\n",
              "    .colab-df-convert {\n",
              "      background-color: #E8F0FE;\n",
              "      border: none;\n",
              "      border-radius: 50%;\n",
              "      cursor: pointer;\n",
              "      display: none;\n",
              "      fill: #1967D2;\n",
              "      height: 32px;\n",
              "      padding: 0 0 0 0;\n",
              "      width: 32px;\n",
              "    }\n",
              "\n",
              "    .colab-df-convert:hover {\n",
              "      background-color: #E2EBFA;\n",
              "      box-shadow: 0px 1px 2px rgba(60, 64, 67, 0.3), 0px 1px 3px 1px rgba(60, 64, 67, 0.15);\n",
              "      fill: #174EA6;\n",
              "    }\n",
              "\n",
              "    .colab-df-buttons div {\n",
              "      margin-bottom: 4px;\n",
              "    }\n",
              "\n",
              "    [theme=dark] .colab-df-convert {\n",
              "      background-color: #3B4455;\n",
              "      fill: #D2E3FC;\n",
              "    }\n",
              "\n",
              "    [theme=dark] .colab-df-convert:hover {\n",
              "      background-color: #434B5C;\n",
              "      box-shadow: 0px 1px 3px 1px rgba(0, 0, 0, 0.15);\n",
              "      filter: drop-shadow(0px 1px 2px rgba(0, 0, 0, 0.3));\n",
              "      fill: #FFFFFF;\n",
              "    }\n",
              "  </style>\n",
              "\n",
              "    <script>\n",
              "      const buttonEl =\n",
              "        document.querySelector('#df-f4275a83-a8d0-4b05-9563-d62d3fc96844 button.colab-df-convert');\n",
              "      buttonEl.style.display =\n",
              "        google.colab.kernel.accessAllowed ? 'block' : 'none';\n",
              "\n",
              "      async function convertToInteractive(key) {\n",
              "        const element = document.querySelector('#df-f4275a83-a8d0-4b05-9563-d62d3fc96844');\n",
              "        const dataTable =\n",
              "          await google.colab.kernel.invokeFunction('convertToInteractive',\n",
              "                                                    [key], {});\n",
              "        if (!dataTable) return;\n",
              "\n",
              "        const docLinkHtml = 'Like what you see? Visit the ' +\n",
              "          '<a target=\"_blank\" href=https://colab.research.google.com/notebooks/data_table.ipynb>data table notebook</a>'\n",
              "          + ' to learn more about interactive tables.';\n",
              "        element.innerHTML = '';\n",
              "        dataTable['output_type'] = 'display_data';\n",
              "        await google.colab.output.renderOutput(dataTable, element);\n",
              "        const docLink = document.createElement('div');\n",
              "        docLink.innerHTML = docLinkHtml;\n",
              "        element.appendChild(docLink);\n",
              "      }\n",
              "    </script>\n",
              "  </div>\n",
              "\n",
              "\n",
              "    <div id=\"df-3d963288-074f-4668-adda-981956456e03\">\n",
              "      <button class=\"colab-df-quickchart\" onclick=\"quickchart('df-3d963288-074f-4668-adda-981956456e03')\"\n",
              "                title=\"Suggest charts\"\n",
              "                style=\"display:none;\">\n",
              "\n",
              "<svg xmlns=\"http://www.w3.org/2000/svg\" height=\"24px\"viewBox=\"0 0 24 24\"\n",
              "     width=\"24px\">\n",
              "    <g>\n",
              "        <path d=\"M19 3H5c-1.1 0-2 .9-2 2v14c0 1.1.9 2 2 2h14c1.1 0 2-.9 2-2V5c0-1.1-.9-2-2-2zM9 17H7v-7h2v7zm4 0h-2V7h2v10zm4 0h-2v-4h2v4z\"/>\n",
              "    </g>\n",
              "</svg>\n",
              "      </button>\n",
              "\n",
              "<style>\n",
              "  .colab-df-quickchart {\n",
              "      --bg-color: #E8F0FE;\n",
              "      --fill-color: #1967D2;\n",
              "      --hover-bg-color: #E2EBFA;\n",
              "      --hover-fill-color: #174EA6;\n",
              "      --disabled-fill-color: #AAA;\n",
              "      --disabled-bg-color: #DDD;\n",
              "  }\n",
              "\n",
              "  [theme=dark] .colab-df-quickchart {\n",
              "      --bg-color: #3B4455;\n",
              "      --fill-color: #D2E3FC;\n",
              "      --hover-bg-color: #434B5C;\n",
              "      --hover-fill-color: #FFFFFF;\n",
              "      --disabled-bg-color: #3B4455;\n",
              "      --disabled-fill-color: #666;\n",
              "  }\n",
              "\n",
              "  .colab-df-quickchart {\n",
              "    background-color: var(--bg-color);\n",
              "    border: none;\n",
              "    border-radius: 50%;\n",
              "    cursor: pointer;\n",
              "    display: none;\n",
              "    fill: var(--fill-color);\n",
              "    height: 32px;\n",
              "    padding: 0;\n",
              "    width: 32px;\n",
              "  }\n",
              "\n",
              "  .colab-df-quickchart:hover {\n",
              "    background-color: var(--hover-bg-color);\n",
              "    box-shadow: 0 1px 2px rgba(60, 64, 67, 0.3), 0 1px 3px 1px rgba(60, 64, 67, 0.15);\n",
              "    fill: var(--button-hover-fill-color);\n",
              "  }\n",
              "\n",
              "  .colab-df-quickchart-complete:disabled,\n",
              "  .colab-df-quickchart-complete:disabled:hover {\n",
              "    background-color: var(--disabled-bg-color);\n",
              "    fill: var(--disabled-fill-color);\n",
              "    box-shadow: none;\n",
              "  }\n",
              "\n",
              "  .colab-df-spinner {\n",
              "    border: 2px solid var(--fill-color);\n",
              "    border-color: transparent;\n",
              "    border-bottom-color: var(--fill-color);\n",
              "    animation:\n",
              "      spin 1s steps(1) infinite;\n",
              "  }\n",
              "\n",
              "  @keyframes spin {\n",
              "    0% {\n",
              "      border-color: transparent;\n",
              "      border-bottom-color: var(--fill-color);\n",
              "      border-left-color: var(--fill-color);\n",
              "    }\n",
              "    20% {\n",
              "      border-color: transparent;\n",
              "      border-left-color: var(--fill-color);\n",
              "      border-top-color: var(--fill-color);\n",
              "    }\n",
              "    30% {\n",
              "      border-color: transparent;\n",
              "      border-left-color: var(--fill-color);\n",
              "      border-top-color: var(--fill-color);\n",
              "      border-right-color: var(--fill-color);\n",
              "    }\n",
              "    40% {\n",
              "      border-color: transparent;\n",
              "      border-right-color: var(--fill-color);\n",
              "      border-top-color: var(--fill-color);\n",
              "    }\n",
              "    60% {\n",
              "      border-color: transparent;\n",
              "      border-right-color: var(--fill-color);\n",
              "    }\n",
              "    80% {\n",
              "      border-color: transparent;\n",
              "      border-right-color: var(--fill-color);\n",
              "      border-bottom-color: var(--fill-color);\n",
              "    }\n",
              "    90% {\n",
              "      border-color: transparent;\n",
              "      border-bottom-color: var(--fill-color);\n",
              "    }\n",
              "  }\n",
              "</style>\n",
              "\n",
              "      <script>\n",
              "        async function quickchart(key) {\n",
              "          const quickchartButtonEl =\n",
              "            document.querySelector('#' + key + ' button');\n",
              "          quickchartButtonEl.disabled = true;  // To prevent multiple clicks.\n",
              "          quickchartButtonEl.classList.add('colab-df-spinner');\n",
              "          try {\n",
              "            const charts = await google.colab.kernel.invokeFunction(\n",
              "                'suggestCharts', [key], {});\n",
              "          } catch (error) {\n",
              "            console.error('Error during call to suggestCharts:', error);\n",
              "          }\n",
              "          quickchartButtonEl.classList.remove('colab-df-spinner');\n",
              "          quickchartButtonEl.classList.add('colab-df-quickchart-complete');\n",
              "        }\n",
              "        (() => {\n",
              "          let quickchartButtonEl =\n",
              "            document.querySelector('#df-3d963288-074f-4668-adda-981956456e03 button');\n",
              "          quickchartButtonEl.style.display =\n",
              "            google.colab.kernel.accessAllowed ? 'block' : 'none';\n",
              "        })();\n",
              "      </script>\n",
              "    </div>\n",
              "\n",
              "    </div>\n",
              "  </div>\n"
            ],
            "application/vnd.google.colaboratory.intrinsic+json": {
              "type": "dataframe",
              "variable_name": "df",
              "summary": "{\n  \"name\": \"df\",\n  \"rows\": 867,\n  \"fields\": [\n    {\n      \"column\": \"Title\",\n      \"properties\": {\n        \"dtype\": \"string\",\n        \"num_unique_values\": 867,\n        \"samples\": [\n          \"Pants 418\",\n          \"T-shirt 488\",\n          \"Crewneck 79\"\n        ],\n        \"semantic_type\": \"\",\n        \"description\": \"\"\n      }\n    },\n    {\n      \"column\": \"Price\",\n      \"properties\": {\n        \"dtype\": \"number\",\n        \"std\": 2299772.9647804564,\n        \"min\": 805600.0,\n        \"max\": 8794880.0,\n        \"num_unique_values\": 858,\n        \"samples\": [\n          3955360.0,\n          6214240.0,\n          6811040.0\n        ],\n        \"semantic_type\": \"\",\n        \"description\": \"\"\n      }\n    },\n    {\n      \"column\": \"Rating\",\n      \"properties\": {\n        \"dtype\": \"number\",\n        \"std\": 0.5914592627539581,\n        \"min\": 3.0,\n        \"max\": 5.0,\n        \"num_unique_values\": 21,\n        \"samples\": [\n          3.9,\n          4.4,\n          4.5\n        ],\n        \"semantic_type\": \"\",\n        \"description\": \"\"\n      }\n    },\n    {\n      \"column\": \"Colors\",\n      \"properties\": {\n        \"dtype\": \"number\",\n        \"std\": 0,\n        \"min\": 3,\n        \"max\": 3,\n        \"num_unique_values\": 1,\n        \"samples\": [\n          3\n        ],\n        \"semantic_type\": \"\",\n        \"description\": \"\"\n      }\n    },\n    {\n      \"column\": \"Size\",\n      \"properties\": {\n        \"dtype\": \"category\",\n        \"num_unique_values\": 5,\n        \"samples\": [\n          \"L\"\n        ],\n        \"semantic_type\": \"\",\n        \"description\": \"\"\n      }\n    },\n    {\n      \"column\": \"Gender\",\n      \"properties\": {\n        \"dtype\": \"category\",\n        \"num_unique_values\": 3,\n        \"samples\": [\n          \"Women\"\n        ],\n        \"semantic_type\": \"\",\n        \"description\": \"\"\n      }\n    }\n  ]\n}"
            }
          },
          "metadata": {},
          "execution_count": 4
        }
      ],
      "source": [
        "df.head()"
      ]
    },
    {
      "cell_type": "markdown",
      "metadata": {
        "id": "LCMIANtfqYF6"
      },
      "source": [
        "##Data Cleaning\n",
        "### Tahap 2 :  Memastikan data bersih dan konsisten agar tidak memengaruhi hasil"
      ]
    },
    {
      "cell_type": "markdown",
      "source": [
        "###Mengecek apakah data ada yang kosong atau tidak,\n",
        "####dengan  hasil dari pengecekan di ketahui bahwa dataset tidak ada yang kosong"
      ],
      "metadata": {
        "id": "agIsjFUaFv7L"
      }
    },
    {
      "cell_type": "code",
      "execution_count": null,
      "metadata": {
        "colab": {
          "base_uri": "https://localhost:8080/",
          "height": 273
        },
        "id": "9qNpPiEbqJ16",
        "outputId": "2a6c5342-5620-467a-caad-8c804cfcfe42"
      },
      "outputs": [
        {
          "output_type": "execute_result",
          "data": {
            "text/plain": [
              "Title     0\n",
              "Price     0\n",
              "Rating    0\n",
              "Colors    0\n",
              "Size      0\n",
              "Gender    0\n",
              "dtype: int64"
            ],
            "text/html": [
              "<div>\n",
              "<style scoped>\n",
              "    .dataframe tbody tr th:only-of-type {\n",
              "        vertical-align: middle;\n",
              "    }\n",
              "\n",
              "    .dataframe tbody tr th {\n",
              "        vertical-align: top;\n",
              "    }\n",
              "\n",
              "    .dataframe thead th {\n",
              "        text-align: right;\n",
              "    }\n",
              "</style>\n",
              "<table border=\"1\" class=\"dataframe\">\n",
              "  <thead>\n",
              "    <tr style=\"text-align: right;\">\n",
              "      <th></th>\n",
              "      <th>0</th>\n",
              "    </tr>\n",
              "  </thead>\n",
              "  <tbody>\n",
              "    <tr>\n",
              "      <th>Title</th>\n",
              "      <td>0</td>\n",
              "    </tr>\n",
              "    <tr>\n",
              "      <th>Price</th>\n",
              "      <td>0</td>\n",
              "    </tr>\n",
              "    <tr>\n",
              "      <th>Rating</th>\n",
              "      <td>0</td>\n",
              "    </tr>\n",
              "    <tr>\n",
              "      <th>Colors</th>\n",
              "      <td>0</td>\n",
              "    </tr>\n",
              "    <tr>\n",
              "      <th>Size</th>\n",
              "      <td>0</td>\n",
              "    </tr>\n",
              "    <tr>\n",
              "      <th>Gender</th>\n",
              "      <td>0</td>\n",
              "    </tr>\n",
              "  </tbody>\n",
              "</table>\n",
              "</div><br><label><b>dtype:</b> int64</label>"
            ]
          },
          "metadata": {},
          "execution_count": 5
        }
      ],
      "source": [
        "df.isnull().sum()"
      ]
    },
    {
      "cell_type": "markdown",
      "source": [
        "###Mengecek apakah data ada yang duplikat atau tidak,\n",
        "####dan dari hasil analisa tidak ada data yang duplikat"
      ],
      "metadata": {
        "id": "91UbJPTkF3Ny"
      }
    },
    {
      "cell_type": "code",
      "execution_count": null,
      "metadata": {
        "colab": {
          "base_uri": "https://localhost:8080/"
        },
        "id": "Ajy333qQrVj5",
        "outputId": "8c3f38a0-901d-48a2-eedb-6e5df7740768"
      },
      "outputs": [
        {
          "output_type": "execute_result",
          "data": {
            "text/plain": [
              "np.int64(0)"
            ]
          },
          "metadata": {},
          "execution_count": 6
        }
      ],
      "source": [
        "df.duplicated().sum()"
      ]
    },
    {
      "cell_type": "markdown",
      "metadata": {
        "id": "FXRhMx4trpC7"
      },
      "source": [
        "##Preprocessing Data\n",
        "### Tahap 3: Menyiapkan data agar siap digunakan oleh model machine learning\n"
      ]
    },
    {
      "cell_type": "markdown",
      "source": [
        "###Mengubah data teks dan kategorikal menjadi bentuk numerik."
      ],
      "metadata": {
        "id": "9w1Whtw3CkmE"
      }
    },
    {
      "cell_type": "code",
      "execution_count": null,
      "metadata": {
        "id": "4fWKbIJXroNJ"
      },
      "outputs": [],
      "source": [
        "tfidf = TfidfVectorizer(stop_words='english')\n",
        "title_matrix = tfidf.fit_transform(df['Title'])\n",
        "\n",
        "encoder = OneHotEncoder()\n",
        "categorical_matrix = encoder.fit_transform(df[['Size', 'Gender']])\n",
        "\n",
        "scaler = MinMaxScaler()\n",
        "numeric_matrix = scaler.fit_transform(df[['Price', 'Rating', 'Colors']])"
      ]
    },
    {
      "cell_type": "markdown",
      "source": [
        "###Gabungkan semua fitur"
      ],
      "metadata": {
        "id": "xmQ4mwmXCra7"
      }
    },
    {
      "cell_type": "code",
      "execution_count": null,
      "metadata": {
        "id": "XsDOUewos8rL"
      },
      "outputs": [],
      "source": [
        "feature_matrix = hstack([title_matrix, categorical_matrix, numeric_matrix])"
      ]
    },
    {
      "cell_type": "markdown",
      "source": [
        "###Membuat label dummy (contoh: kategori Gender sebagai target)"
      ],
      "metadata": {
        "id": "BinIv_1zCzTB"
      }
    },
    {
      "cell_type": "code",
      "execution_count": null,
      "metadata": {
        "id": "adniJLYbtEbp"
      },
      "outputs": [],
      "source": [
        "y = df['Gender']"
      ]
    },
    {
      "cell_type": "markdown",
      "metadata": {
        "id": "CZNvyyCwu00F"
      },
      "source": [
        "##Train-Test Split\n",
        "###Tahap 4: Membagi model dengan sebagian data (training) dan mengujinya dengan data lain (testing) untuk mengevaluasi performa"
      ]
    },
    {
      "cell_type": "code",
      "execution_count": null,
      "metadata": {
        "id": "rYKNFRypu3I1"
      },
      "outputs": [],
      "source": [
        "X_train, X_test, y_train, y_test = train_test_split(feature_matrix, y, test_size=0.2, random_state=42)"
      ]
    },
    {
      "cell_type": "markdown",
      "metadata": {
        "id": "Y9k94yVxu8sq"
      },
      "source": [
        "##Membangun Model TensorFlow untuk Klasifikasi\n",
        "### Tahap 5: Menggunakan TensorFlow (keras) untuk membuat model klasifikasi, misalnya mengklasifikasikan produk ke dalam kategori fashion"
      ]
    },
    {
      "cell_type": "markdown",
      "source": [
        "###Encode target label ke integer"
      ],
      "metadata": {
        "id": "lrHNjHyvC7yd"
      }
    },
    {
      "cell_type": "code",
      "execution_count": null,
      "metadata": {
        "id": "T3aAn36IvK6D"
      },
      "outputs": [],
      "source": [
        "\n",
        "label_map = {label: idx for idx, label in enumerate(y.unique())}\n",
        "y_train_encoded = np.array([label_map[val] for val in y_train])\n",
        "y_test_encoded = np.array([label_map[val] for val in y_test])\n"
      ]
    },
    {
      "cell_type": "markdown",
      "source": [
        "###Menggunakan TensorFlow untuk melatih model prediksi Gender"
      ],
      "metadata": {
        "id": "EvDRc0hPDAMy"
      }
    },
    {
      "cell_type": "code",
      "execution_count": null,
      "metadata": {
        "id": "xNMOCvPSvGLd"
      },
      "outputs": [],
      "source": [
        "input_layer = Input(shape=(X_train.shape[1],))\n",
        "x = Dense(128, activation='relu')(input_layer)\n",
        "x = Dense(64, activation='relu')(x)\n",
        "output_layer = Dense(len(y.unique()), activation='softmax')(x)\n",
        "\n",
        "model = Model(inputs=input_layer, outputs=output_layer)\n",
        "\n",
        "model.compile(optimizer='adam', loss='sparse_categorical_crossentropy', metrics=['accuracy'])"
      ]
    },
    {
      "cell_type": "markdown",
      "source": [
        "###Melatih Model\n",
        "####Hasil dari models menun jukan hasil Training: 1.0306 → 0.0012 , Validasi: 0.7369 → 0.0018 Model sangat baik dalam mempelajari fitur produk untuk klasifikasi Gender"
      ],
      "metadata": {
        "id": "GM-Pcza8DD0R"
      }
    },
    {
      "cell_type": "code",
      "execution_count": null,
      "metadata": {
        "colab": {
          "base_uri": "https://localhost:8080/"
        },
        "id": "gt4kWlpFvPO0",
        "outputId": "f901e21a-30a9-4ae6-981a-773785889818"
      },
      "outputs": [
        {
          "output_type": "stream",
          "name": "stdout",
          "text": [
            "Epoch 1/10\n",
            "\u001b[1m22/22\u001b[0m \u001b[32m━━━━━━━━━━━━━━━━━━━━\u001b[0m\u001b[37m\u001b[0m \u001b[1m2s\u001b[0m 16ms/step - accuracy: 0.6584 - loss: 1.0306 - val_accuracy: 1.0000 - val_loss: 0.7369\n",
            "Epoch 2/10\n",
            "\u001b[1m22/22\u001b[0m \u001b[32m━━━━━━━━━━━━━━━━━━━━\u001b[0m\u001b[37m\u001b[0m \u001b[1m0s\u001b[0m 7ms/step - accuracy: 1.0000 - loss: 0.5813 - val_accuracy: 1.0000 - val_loss: 0.1806\n",
            "Epoch 3/10\n",
            "\u001b[1m22/22\u001b[0m \u001b[32m━━━━━━━━━━━━━━━━━━━━\u001b[0m\u001b[37m\u001b[0m \u001b[1m0s\u001b[0m 7ms/step - accuracy: 1.0000 - loss: 0.1067 - val_accuracy: 1.0000 - val_loss: 0.0265\n",
            "Epoch 4/10\n",
            "\u001b[1m22/22\u001b[0m \u001b[32m━━━━━━━━━━━━━━━━━━━━\u001b[0m\u001b[37m\u001b[0m \u001b[1m0s\u001b[0m 7ms/step - accuracy: 1.0000 - loss: 0.0156 - val_accuracy: 1.0000 - val_loss: 0.0101\n",
            "Epoch 5/10\n",
            "\u001b[1m22/22\u001b[0m \u001b[32m━━━━━━━━━━━━━━━━━━━━\u001b[0m\u001b[37m\u001b[0m \u001b[1m0s\u001b[0m 8ms/step - accuracy: 1.0000 - loss: 0.0061 - val_accuracy: 1.0000 - val_loss: 0.0062\n",
            "Epoch 6/10\n",
            "\u001b[1m22/22\u001b[0m \u001b[32m━━━━━━━━━━━━━━━━━━━━\u001b[0m\u001b[37m\u001b[0m \u001b[1m0s\u001b[0m 8ms/step - accuracy: 1.0000 - loss: 0.0038 - val_accuracy: 1.0000 - val_loss: 0.0044\n",
            "Epoch 7/10\n",
            "\u001b[1m22/22\u001b[0m \u001b[32m━━━━━━━━━━━━━━━━━━━━\u001b[0m\u001b[37m\u001b[0m \u001b[1m0s\u001b[0m 7ms/step - accuracy: 1.0000 - loss: 0.0027 - val_accuracy: 1.0000 - val_loss: 0.0034\n",
            "Epoch 8/10\n",
            "\u001b[1m22/22\u001b[0m \u001b[32m━━━━━━━━━━━━━━━━━━━━\u001b[0m\u001b[37m\u001b[0m \u001b[1m0s\u001b[0m 7ms/step - accuracy: 1.0000 - loss: 0.0020 - val_accuracy: 1.0000 - val_loss: 0.0027\n",
            "Epoch 9/10\n",
            "\u001b[1m22/22\u001b[0m \u001b[32m━━━━━━━━━━━━━━━━━━━━\u001b[0m\u001b[37m\u001b[0m \u001b[1m0s\u001b[0m 7ms/step - accuracy: 1.0000 - loss: 0.0016 - val_accuracy: 1.0000 - val_loss: 0.0022\n",
            "Epoch 10/10\n",
            "\u001b[1m22/22\u001b[0m \u001b[32m━━━━━━━━━━━━━━━━━━━━\u001b[0m\u001b[37m\u001b[0m \u001b[1m0s\u001b[0m 8ms/step - accuracy: 1.0000 - loss: 0.0012 - val_accuracy: 1.0000 - val_loss: 0.0018\n"
          ]
        }
      ],
      "source": [
        "history = model.fit(X_train.toarray(), y_train_encoded, epochs=10, batch_size=32, verbose=1, validation_data=(X_test.toarray(), y_test_encoded))"
      ]
    },
    {
      "cell_type": "markdown",
      "source": [
        "###Evaluate model\n",
        "####Dengan Akurasi yang di peroleh 100% Model mampu mempelajari data dengan sangat baik dan mencapai performa maksimal tanpa overfitting\n",
        "\n"
      ],
      "metadata": {
        "id": "aS9O0QqhDPIq"
      }
    },
    {
      "cell_type": "code",
      "execution_count": null,
      "metadata": {
        "colab": {
          "base_uri": "https://localhost:8080/"
        },
        "id": "aeL_YW6gvW0l",
        "outputId": "dd927162-bfed-49ba-d446-eda74985135c"
      },
      "outputs": [
        {
          "output_type": "stream",
          "name": "stdout",
          "text": [
            "\u001b[1m6/6\u001b[0m \u001b[32m━━━━━━━━━━━━━━━━━━━━\u001b[0m\u001b[37m\u001b[0m \u001b[1m0s\u001b[0m 9ms/step - accuracy: 1.0000 - loss: 0.0018 \n",
            "Akurasi Model: 100.00%\n"
          ]
        }
      ],
      "source": [
        "loss, accuracy = model.evaluate(X_test.toarray(), y_test_encoded)\n",
        "print(\"Akurasi Model: {:.2f}%\".format(accuracy * 100))"
      ]
    },
    {
      "cell_type": "markdown",
      "source": [
        "###Classification report\n",
        "####Precision, Recall, dan F1-Score untuk setiap kelas = 1.00 (maksimal).Artinya, tidak ada kesalahan klasifikasi pada data uji."
      ],
      "metadata": {
        "id": "XfADBK1gDS0T"
      }
    },
    {
      "cell_type": "code",
      "execution_count": null,
      "metadata": {
        "colab": {
          "base_uri": "https://localhost:8080/"
        },
        "id": "QDui3ZpTvai8",
        "outputId": "fa36da6b-9d5b-445a-96b5-56cc6492c487"
      },
      "outputs": [
        {
          "output_type": "stream",
          "name": "stdout",
          "text": [
            "\u001b[1m6/6\u001b[0m \u001b[32m━━━━━━━━━━━━━━━━━━━━\u001b[0m\u001b[37m\u001b[0m \u001b[1m0s\u001b[0m 12ms/step\n",
            "              precision    recall  f1-score   support\n",
            "\n",
            "           0       1.00      1.00      1.00        62\n",
            "           1       1.00      1.00      1.00        59\n",
            "           2       1.00      1.00      1.00        53\n",
            "\n",
            "    accuracy                           1.00       174\n",
            "   macro avg       1.00      1.00      1.00       174\n",
            "weighted avg       1.00      1.00      1.00       174\n",
            "\n"
          ]
        }
      ],
      "source": [
        "y_pred = model.predict(X_test.toarray())\n",
        "y_pred_labels = np.argmax(y_pred, axis=1)\n",
        "print(classification_report(y_test_encoded, y_pred_labels))"
      ]
    },
    {
      "cell_type": "markdown",
      "metadata": {
        "id": "-a21emP_viW9"
      },
      "source": [
        "##Visualisasi Embedding Produk\n",
        "### Tahap 6: Embedding adalah representasi vektor dari kata atau teks. Visualisasi ini digunakan untuk melihat kemiripan produk dalam ruang vektor\n",
        "####dari hasil Embedding dapat di simpulkan embedding produk berhasil merepresentasikan perbedaan fitur secara signifikan"
      ]
    },
    {
      "cell_type": "code",
      "execution_count": null,
      "metadata": {
        "colab": {
          "base_uri": "https://localhost:8080/",
          "height": 581
        },
        "id": "C2bYASzqvd55",
        "outputId": "e056c02a-ed6d-43f8-beb9-e9697dc85ca5"
      },
      "outputs": [
        {
          "output_type": "stream",
          "name": "stdout",
          "text": [
            "\u001b[1m28/28\u001b[0m \u001b[32m━━━━━━━━━━━━━━━━━━━━\u001b[0m\u001b[37m\u001b[0m \u001b[1m0s\u001b[0m 3ms/step\n"
          ]
        },
        {
          "output_type": "display_data",
          "data": {
            "text/plain": [
              "<Figure size 1000x600 with 1 Axes>"
            ],
            "image/png": "[encoded data removed]"
          },
          "metadata": {}
        }
      ],
      "source": [
        "embedding_model = tf.keras.Model(inputs=model.input, outputs=model.layers[-2].output)\n",
        "embeddings = embedding_model.predict(feature_matrix.toarray())\n",
        "\n",
        "pca = PCA(n_components=2)\n",
        "reduced_embeddings = pca.fit_transform(embeddings)\n",
        "\n",
        "plt.figure(figsize=(10,6))\n",
        "plt.scatter(reduced_embeddings[:,0], reduced_embeddings[:,1], alpha=0.5)\n",
        "plt.title('Visualisasi Produk Berdasarkan Embedding')\n",
        "plt.xlabel('PCA 1')\n",
        "plt.ylabel('PCA 2')\n",
        "plt.grid(True)\n",
        "plt.show()"
      ]
    },
    {
      "cell_type": "markdown",
      "source": [
        "##Visualisasi Hasil Pelatihan\n",
        "###Tahap 7 : Mevisualisasikan hasil model dengan menampilkan grafik Accuracy & Loss\n",
        "####Training dan validasi akurasi = 100% mulai epoch ke-2.Baik loss training maupun validasi cepat turun hingga ~0 pada epoch ke-3. Tidak ada overfitting yang terlihat dari perbedaan antara loss training dan validasi → keduanya sangat seragam."
      ],
      "metadata": {
        "id": "VUk7h0NJiw6D"
      }
    },
    {
      "cell_type": "code",
      "execution_count": null,
      "metadata": {
        "colab": {
          "base_uri": "https://localhost:8080/",
          "height": 507
        },
        "id": "bpu5Y6s7z5AK",
        "outputId": "4f3447e7-0443-4e9f-a3ea-c5bbbc363685"
      },
      "outputs": [
        {
          "output_type": "display_data",
          "data": {
            "text/plain": [
              "<Figure size 1400x500 with 2 Axes>"
            ],
            "image/png": "[encoded data removed]"
          },
          "metadata": {}
        }
      ],
      "source": [
        "\n",
        "plt.figure(figsize=(14, 5))\n",
        "\n",
        "# Grafik Akurasi\n",
        "plt.subplot(1, 2, 1)\n",
        "plt.plot(history.history['accuracy'], label='Akurasi Training')\n",
        "plt.plot(history.history['val_accuracy'], label='Akurasi Validasi')\n",
        "plt.title('Akurasi Selama Training')\n",
        "plt.xlabel('Epoch')\n",
        "plt.ylabel('Akurasi')\n",
        "plt.legend()\n",
        "plt.grid(True)\n",
        "\n",
        "# Grafik Loss\n",
        "plt.subplot(1, 2, 2)\n",
        "plt.plot(history.history['loss'], label='Loss Training')\n",
        "plt.plot(history.history['val_loss'], label='Loss Validasi')\n",
        "plt.title('Loss Selama Training')\n",
        "plt.xlabel('Epoch')\n",
        "plt.ylabel('Loss')\n",
        "plt.legend()\n",
        "plt.grid(True)\n",
        "\n",
        "plt.tight_layout()\n",
        "plt.show()"
      ]
    },
    {
      "cell_type": "markdown",
      "source": [
        "##Content-Based Filtering\n",
        "###Tahap 8 : Sistem Rekomendasi Content-Based Filtering berdasarkan Rating Menghitung cosine similarity antar produk"
      ],
      "metadata": {
        "id": "rc2poW6Bj0mr"
      }
    },
    {
      "cell_type": "markdown",
      "source": [
        "###Fungsi rekomendasi berdasarkan rating tinggi dan kesamaan fitur"
      ],
      "metadata": {
        "id": "VJR4z1crFhDT"
      }
    },
    {
      "cell_type": "code",
      "source": [
        "def recommend_by_rating(product_index, top_n=5):\n",
        "    similarity_matrix = cosine_similarity(feature_matrix)\n",
        "    similarity_scores = list(enumerate(similarity_matrix[product_index]))\n",
        "    similarity_scores = sorted(similarity_scores, key=lambda x: x[1], reverse=True)\n",
        "    similar_indices = [i for i, score in similarity_scores[1:] if df.iloc[i]['Rating'] >= df.iloc[product_index]['Rating']]\n",
        "    return df.iloc[similar_indices[:top_n]][['Title', 'Price', 'Rating']]"
      ],
      "metadata": {
        "id": "88UNmyBVi_Db"
      },
      "execution_count": null,
      "outputs": []
    },
    {
      "cell_type": "markdown",
      "source": [
        "###Metrik NDCG@K akan mengukur seberapa baik sistem rekomendasimu dalam memberikan saran item yang relevan kepada pengguna\n",
        "#### Skor 0.988 menunjukkan rekomendasi kamu sangat baik — hampir semua item yang direkomendasikan di posisi 1–5 sesuai dengan relevansi yang diharapkan."
      ],
      "metadata": {
        "id": "Ateep_svOj34"
      }
    },
    {
      "cell_type": "code",
      "source": [
        "from sklearn.metrics import ndcg_score\n",
        "\n",
        "def evaluate_recommendation(product_index, k=5):\n",
        "    recommended = recommend_by_rating(product_index, top_n=k)\n",
        "    recommended_indices = recommended.index.tolist()\n",
        "\n",
        "\n",
        "    relevant_items = df[df['Rating'] >= 4.0].index.tolist()\n",
        "\n",
        "    hits = [1 if idx in relevant_items else 0 for idx in recommended_indices]\n",
        "\n",
        "\n",
        "    # NDCG@K\n",
        "    relevance_scores = [df.loc[idx, 'Rating'] if idx in relevant_items else 0 for idx in recommended_indices]\n",
        "    ideal = sorted(relevance_scores, reverse=True)\n",
        "    ndcg = ndcg_score([ideal], [relevance_scores])\n",
        "\n",
        "    return {\n",
        "        \"NDCG@{}\".format(k): round(ndcg, 3)\n",
        "    }\n"
      ],
      "metadata": {
        "id": "oHOC5GnpLHb-"
      },
      "execution_count": null,
      "outputs": []
    },
    {
      "cell_type": "code",
      "source": [
        "print(evaluate_recommendation(0, k=5))"
      ],
      "metadata": {
        "colab": {
          "base_uri": "https://localhost:8080/"
        },
        "id": "D06M7T98LQlh",
        "outputId": "1d0b4746-5049-4900-9c93-3b8e26b61541"
      },
      "execution_count": null,
      "outputs": [
        {
          "output_type": "stream",
          "name": "stdout",
          "text": [
            "{'NDCG@5': np.float64(0.988)}\n"
          ]
        }
      ]
    },
    {
      "cell_type": "markdown",
      "source": [
        "###Contoh penggunaan rekomendasi berdasarkan rating\n",
        "#### Semua produk memiliki rating ≥ produk input Rekomendasi ini mengikuti kriteria: \"rating setara atau lebih tinggi\".Rating semua produk berada di atas 4.1, dengan tertinggi 4.4. hasil dari content-based filtering Semua item bertipe “T-shirt” → artinya fitur seperti title/kategori dipakai dalam pemodelan.Model menggunakan filter berdasarkan konten + threshold rating untuk menampilkan item serupa."
      ],
      "metadata": {
        "id": "xx9SYQiaFkuT"
      }
    },
    {
      "cell_type": "code",
      "source": [
        "print(\"\\nRekomendasi produk mirip dengan rating setara atau lebih tinggi:\")\n",
        "print(recommend_by_rating(0))"
      ],
      "metadata": {
        "colab": {
          "base_uri": "https://localhost:8080/"
        },
        "id": "aMst7Is6kBXh",
        "outputId": "3df4d221-57bb-45ee-c4d6-4a931476c2c2"
      },
      "execution_count": null,
      "outputs": [
        {
          "output_type": "stream",
          "name": "stdout",
          "text": [
            "\n",
            "Rekomendasi produk mirip dengan rating setara atau lebih tinggi:\n",
            "           Title      Price  Rating\n",
            "598  T-shirt 692  1416480.0     4.1\n",
            "754  T-shirt 872  1343680.0     4.3\n",
            "520  T-shirt 602  2260960.0     4.4\n",
            "832  T-shirt 962  2887840.0     4.1\n",
            "338  T-shirt 392  1226080.0     4.4\n"
          ]
        }
      ]
    }
  ],
  "metadata": {
    "colab": {
      "provenance": []
    },
    "kernelspec": {
      "display_name": "Python 3",
      "name": "python3"
    },
    "language_info": {
      "name": "python"
    }
  },
  "nbformat": 4,
  "nbformat_minor": 0
}